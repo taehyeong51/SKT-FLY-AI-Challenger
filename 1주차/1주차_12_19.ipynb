{
  "nbformat": 4,
  "nbformat_minor": 0,
  "metadata": {
    "colab": {
      "provenance": []
    },
    "kernelspec": {
      "name": "python3",
      "display_name": "Python 3"
    },
    "language_info": {
      "name": "python"
    },
    "accelerator": "GPU",
    "gpuClass": "standard"
  },
  "cells": [
    {
      "cell_type": "markdown",
      "source": [
        "# Numpy"
      ],
      "metadata": {
        "id": "j_dvNdYMP2ku"
      }
    },
    {
      "cell_type": "markdown",
      "source": [
        "## 1. Numpy Overview"
      ],
      "metadata": {
        "id": "YJMLvMzXP5dP"
      }
    },
    {
      "cell_type": "markdown",
      "source": [
        "■ Definition <br> \n",
        "▶ Numpy란<br> \n",
        "• Numerical Python의 약자이며, 한글로는 주로 넘파이로 부른다.<br> \n",
        "• 다차원 배열을 쉽게 처리하고 효율적으로 사용할 수 있도록 지원하는 파이썬의 라이브러리이다.<br> \n",
        "• 데이터 구조 외에도 수치 계산을 위해 효율적으로 구현된 기능을 제공한다.<br> \n",
        "• 파이썬으로 진행되는 모든 데이터 분석과 인공지능 학습에 있어 가장 필수적인 라이브러리다.<br> \n",
        "▶ Numpy 특징<br> \n",
        "• 파이썬의 List에 비해 빠르고, 메모리를 효율적으로 사용한다.<br> \n",
        "• 반복문 없이 데이터 배열의 처리를 지원하여 빠르고 편리하다.<br> \n",
        "• 선형대수와 관련된 다양한 기능을 제공한다.<br> \n",
        "• C, C++, 포트란 등의 언어와 통합이 가능하다.<br> "
      ],
      "metadata": {
        "id": "EIzlQe0eP9Sf"
      }
    },
    {
      "cell_type": "markdown",
      "source": [
        "## 2. 다차원 배열(N-Dimensional Array) 생성"
      ],
      "metadata": {
        "id": "6OBHP7QmQJ5z"
      }
    },
    {
      "cell_type": "markdown",
      "source": [
        "■ Numpy 모듈 <br>\n",
        "▶ Numpy 모듈 <br>\n",
        "• Numpy 모듈은 np라는 별칭으로 사용한다.<br>"
      ],
      "metadata": {
        "id": "3V5yANOAQOpk"
      }
    },
    {
      "cell_type": "code",
      "execution_count": null,
      "metadata": {
        "colab": {
          "base_uri": "https://localhost:8080/"
        },
        "id": "Ov9ZFOQDC6ZZ",
        "outputId": "a123c838-0cee-4f3f-deb1-3d34d430edf7"
      },
      "outputs": [
        {
          "output_type": "stream",
          "name": "stdout",
          "text": [
            "1.21.6\n"
          ]
        }
      ],
      "source": [
        "import numpy as np\n",
        "\n",
        "print(np.__version__)"
      ]
    },
    {
      "cell_type": "markdown",
      "source": [
        "■ ndarray 객체 <br>\n",
        "▶ ndarray 객체<br>\n",
        "• N-dimensional Array의 약자이다.<br>\n",
        "• Numpy의 핵심은 ndarray객체이며, ndarray객체는 넘파이에서 다차원 배열을 나타낸다.<br>\n",
        "• 다차원 배열을 생성하는 기본적인 방법은 array() 함수를 사용하는 것이다.<br>\n",
        "• 모든 원소가 같은 자료형이어야 한다.<br>\n",
        "• 원소의 개수를 변경할 수 없다.<br>"
      ],
      "metadata": {
        "id": "OtwCME-MQVYw"
      }
    },
    {
      "cell_type": "markdown",
      "source": [
        "### Practice 2-1.\n",
        "1차원 배열, 2차원 배열, 3차원 배열을 생성하는 코드를 작성하고, print() 함수로 출력되는 내용\n",
        "을 살펴보자. 생성되는 배열 객체를 type() 함수로 확인한다."
      ],
      "metadata": {
        "id": "2GgQyRNyQbwU"
      }
    },
    {
      "cell_type": "code",
      "source": [
        "# 1-D Array 생성\n",
        "arr = np.array([1,2,3,4])\n",
        "\n",
        "print(arr)\n",
        "print(type(arr))"
      ],
      "metadata": {
        "colab": {
          "base_uri": "https://localhost:8080/"
        },
        "id": "1BhYqZ5xOdkj",
        "outputId": "88070b88-560a-4c6c-cb90-aeb1526d12c8"
      },
      "execution_count": null,
      "outputs": [
        {
          "output_type": "stream",
          "name": "stdout",
          "text": [
            "[1 2 3 4]\n",
            "<class 'numpy.ndarray'>\n"
          ]
        }
      ]
    },
    {
      "cell_type": "code",
      "source": [
        "# 2-D Array 생성\n",
        "arr = np.array([[1,2,3],[4,5,6]])\n",
        "\n",
        "print(arr)\n",
        "print(type(arr))\n"
      ],
      "metadata": {
        "colab": {
          "base_uri": "https://localhost:8080/"
        },
        "id": "vyHWea1NOgBu",
        "outputId": "7f446fc4-c8a8-4c43-bf2f-d00e75827af9"
      },
      "execution_count": null,
      "outputs": [
        {
          "output_type": "stream",
          "name": "stdout",
          "text": [
            "[[1 2 3]\n",
            " [4 5 6]]\n",
            "<class 'numpy.ndarray'>\n"
          ]
        }
      ]
    },
    {
      "cell_type": "code",
      "source": [
        "# 3-D Array 생성\n",
        "arr = np.array([[[1,2,3,4],[5,6,7,8]],\n",
        "                [[9,10,11,12],[13,14,15,16]],\n",
        "                [[17,18,19,20],[21,22,23,24]]])\n",
        "print(arr)\n",
        "print(type(arr))"
      ],
      "metadata": {
        "colab": {
          "base_uri": "https://localhost:8080/"
        },
        "id": "BRWC4NbcOjWm",
        "outputId": "9db77a5c-b42b-4744-c9b2-528243cc7f6a"
      },
      "execution_count": null,
      "outputs": [
        {
          "output_type": "stream",
          "name": "stdout",
          "text": [
            "[[[ 1  2  3  4]\n",
            "  [ 5  6  7  8]]\n",
            "\n",
            " [[ 9 10 11 12]\n",
            "  [13 14 15 16]]\n",
            "\n",
            " [[17 18 19 20]\n",
            "  [21 22 23 24]]]\n",
            "<class 'numpy.ndarray'>\n"
          ]
        }
      ]
    },
    {
      "cell_type": "markdown",
      "source": [
        "## 3. 배열의 속성"
      ],
      "metadata": {
        "id": "lQR5UppzQr51"
      }
    },
    {
      "cell_type": "markdown",
      "source": [
        "■ 배열 속성 <br>\n",
        "▶ shape과 dtype 속성<br>\n",
        "• 넘파이 배열은 아래와 같은 속성을 가진다. 특히 shape와 dtype 속성이 중요하다.<br>\n",
        "\n",
        "---\n",
        "**속성 설명**<br>\n",
        "shape 배열의 형태(모양)를 튜플(Tuple) 자료형으로 표현한다.<br>\n",
        "ndim 몇 차원의 배열인지를 나타낸다. (축의 개수)<br>\n",
        "size 원소(element, 요소)의 개수를 나타낸다.<br>\n",
        "dtype 배열 원소의 자료형을 나타낸다. 넘파이 배열의 모든 원소는 같은 자료형이다.<br>\n",
        "itemsize 배열 원소의 크기를 바이트 단위로 표시한다.<br>"
      ],
      "metadata": {
        "id": "rX3jDHdAOyWG"
      }
    },
    {
      "cell_type": "markdown",
      "source": [
        "■ 배열 속성 확인 <br>\n",
        "▶ ndarray 객체<br>\n",
        "• 배열의 속성을 확인하기 위한 코드를 재활용하기 위해 print_att()라는 함수를 생성하여 사용\n",
        "한다."
      ],
      "metadata": {
        "id": "xWQ13kxURFqQ"
      }
    },
    {
      "cell_type": "code",
      "source": [
        "def print_att(arr):\n",
        "  print(\"shape : \", arr.shape)\n",
        "  print(\"ndim : \", arr.ndim)\n",
        "  print(\"size : \", arr.size)\n",
        "  print(\"dtype : \", arr.dtype)\n",
        "  print(\"itemsize : \", arr.itemsize)"
      ],
      "metadata": {
        "id": "VlYOMMZ3RTrM"
      },
      "execution_count": null,
      "outputs": []
    },
    {
      "cell_type": "code",
      "source": [
        "# 1-D Array 생성 및 속성 확인\n",
        "arr = np.array([1,2,3,4])\n",
        "print_att(arr)\n",
        "\n",
        "# shape :  (4,) 에서 , 1차원은 뒤 차원 생략한 form으로 출력"
      ],
      "metadata": {
        "colab": {
          "base_uri": "https://localhost:8080/"
        },
        "id": "cX1bEezaRNXw",
        "outputId": "1023daa3-36bf-447e-a8df-8bcb3b01fd3f"
      },
      "execution_count": null,
      "outputs": [
        {
          "output_type": "stream",
          "name": "stdout",
          "text": [
            "shape :  (4,)\n",
            "ndim :  1\n",
            "size :  4\n",
            "dtype :  int64\n",
            "itemsize :  8\n"
          ]
        }
      ]
    },
    {
      "cell_type": "code",
      "source": [
        "# 2-D Array 생성 및 속성 확인\n",
        "arr = np.array([[1,2,3],[4,5,6]])\n",
        "print_att(arr)"
      ],
      "metadata": {
        "colab": {
          "base_uri": "https://localhost:8080/"
        },
        "id": "BwWPkIxJR641",
        "outputId": "feb9cdca-9842-420e-dfd0-09385512cf24"
      },
      "execution_count": null,
      "outputs": [
        {
          "output_type": "stream",
          "name": "stdout",
          "text": [
            "shape :  (2, 3)\n",
            "ndim :  2\n",
            "size :  6\n",
            "dtype :  int64\n",
            "itemsize :  8\n"
          ]
        }
      ]
    },
    {
      "cell_type": "code",
      "source": [
        "# 3-D Array 생성 및 속성 확인\n",
        "arr = np.array([[[1, 2, 3, 4], [5, 6, 7, 8]],\n",
        "[[9, 10, 11, 12], [13, 14, 15, 16]],\n",
        "[[17, 18, 19, 20], [21, 22, 23, 24]]])\n",
        "print(arr)\n",
        "print(type(arr))\n",
        "print_att(arr)"
      ],
      "metadata": {
        "colab": {
          "base_uri": "https://localhost:8080/"
        },
        "id": "s474papBR_6V",
        "outputId": "e6cfa066-f779-4369-e382-312345e0a196"
      },
      "execution_count": null,
      "outputs": [
        {
          "output_type": "stream",
          "name": "stdout",
          "text": [
            "[[[ 1  2  3  4]\n",
            "  [ 5  6  7  8]]\n",
            "\n",
            " [[ 9 10 11 12]\n",
            "  [13 14 15 16]]\n",
            "\n",
            " [[17 18 19 20]\n",
            "  [21 22 23 24]]]\n",
            "<class 'numpy.ndarray'>\n",
            "shape :  (3, 2, 4)\n",
            "ndim :  3\n",
            "size :  24\n",
            "dtype :  int64\n",
            "itemsize :  8\n"
          ]
        }
      ]
    },
    {
      "cell_type": "markdown",
      "source": [
        "## 4. 배열의 자료형(Data Type)"
      ],
      "metadata": {
        "id": "4-Ni3Rf9SWKj"
      }
    },
    {
      "cell_type": "markdown",
      "source": [
        "![배열의자료형.png](data:image/png;base64,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)"
      ],
      "metadata": {
        "id": "mQLFN9KLSY4y"
      }
    },
    {
      "cell_type": "markdown",
      "source": [
        "■ 자료형 지정 생성 <br>\n",
        "▶ shape과 dtype 속성<br>\n",
        "• 자료형은 배열을 생성하는 array() 함수의 dtype 인수에 명시적으로 지정할 수 있다.<br>\n",
        "• 자료형을 지정하는 방법은 여러 가지가 있지만, 가장 많이 사용되는 2 가지만 기억하자.<br>\n",
        "- Numpy에 정의된 상수 (np.int32, np.int64, np.float32, np.float64 등) 사용<br>\n",
        "- 문자열( ‘i4’, ‘i8’, ‘f4’, ‘f8’ 등) 사용. i는 integer, f는 float를 나타내며 숫자는 바이트 수<br>\n",
        "• 명시적으로 자료형을 지정하지 않으면, 주어진 데이터를 통해서 추론한다.<br>\n",
        "• 명시적으로 자료형을 지정하지 않은 배열은 int32로 정해졌다. array() 함수의 인수로 주어진\n",
        "데이터의 자료형과 상관없이 dtype에 주어진 자료형으로 배열은 생성된다.<br>\n",
        "\n",
        "\n",
        "■ 자료형 변환 <br>▶ 자료형 변환<br>\n",
        "• 생성된 배열의 자료형의 변경은 astype() 함수를 사용한다.<br>"
      ],
      "metadata": {
        "id": "svX4zIhBSpSK"
      }
    },
    {
      "cell_type": "code",
      "source": [
        "z = np.array([[[1], [2], [3], [4], [5]]])\n",
        "\n",
        "print(z.shape)"
      ],
      "metadata": {
        "colab": {
          "base_uri": "https://localhost:8080/"
        },
        "id": "V3qJfMDOT8Sj",
        "outputId": "dedfdd40-5eef-4fec-b4b0-a694299ec191"
      },
      "execution_count": null,
      "outputs": [
        {
          "output_type": "stream",
          "name": "stdout",
          "text": [
            "(1, 5, 1)\n"
          ]
        }
      ]
    },
    {
      "cell_type": "code",
      "source": [
        "quiz = np.arange(0,10**6,5)\n",
        "print(quiz.shape)"
      ],
      "metadata": {
        "colab": {
          "base_uri": "https://localhost:8080/"
        },
        "id": "fTpGNO0fVlPQ",
        "outputId": "005fd0bc-6a3c-46f5-f4f6-111b0719a37c"
      },
      "execution_count": null,
      "outputs": [
        {
          "output_type": "stream",
          "name": "stdout",
          "text": [
            "(200000,)\n"
          ]
        }
      ]
    },
    {
      "cell_type": "code",
      "source": [
        "np.linspace(0,100,11)"
      ],
      "metadata": {
        "colab": {
          "base_uri": "https://localhost:8080/"
        },
        "id": "xzuZW9_KWjmd",
        "outputId": "6469480f-494e-47e3-faf9-9133f7a60bf6"
      },
      "execution_count": null,
      "outputs": [
        {
          "output_type": "execute_result",
          "data": {
            "text/plain": [
              "array([  0.,  10.,  20.,  30.,  40.,  50.,  60.,  70.,  80.,  90., 100.])"
            ]
          },
          "metadata": {},
          "execution_count": 27
        }
      ]
    },
    {
      "cell_type": "code",
      "source": [
        "np.full((2,3),3)\n",
        "\n",
        "print(np.ones(5))\n",
        "print(np.ones((2,4)))\n"
      ],
      "metadata": {
        "colab": {
          "base_uri": "https://localhost:8080/"
        },
        "id": "cx49kkVJXDxp",
        "outputId": "88509fd2-7448-43a3-8c49-787a698934d0"
      },
      "execution_count": null,
      "outputs": [
        {
          "output_type": "stream",
          "name": "stdout",
          "text": [
            "[1. 1. 1. 1. 1.]\n",
            "[[1. 1. 1. 1.]\n",
            " [1. 1. 1. 1.]]\n"
          ]
        }
      ]
    },
    {
      "cell_type": "code",
      "source": [
        "a3 = np.array([[[1, 2, 3], [4, 5, 6], [7, 8, 9]],\n",
        "             [[1, 2, 3], [4, 5, 6], [7, 8, 9]],\n",
        "             [[1, 2, 3], [4, 5, 6], [7, 8, 9]]])\n",
        "print(a3)\n",
        "print(a3.shape)"
      ],
      "metadata": {
        "colab": {
          "base_uri": "https://localhost:8080/"
        },
        "id": "wXKKTcjygfKy",
        "outputId": "19cd736e-ee38-49b0-a0d5-6ac9d56b5dbb"
      },
      "execution_count": null,
      "outputs": [
        {
          "output_type": "stream",
          "name": "stdout",
          "text": [
            "[[[1 2 3]\n",
            "  [4 5 6]\n",
            "  [7 8 9]]\n",
            "\n",
            " [[1 2 3]\n",
            "  [4 5 6]\n",
            "  [7 8 9]]\n",
            "\n",
            " [[1 2 3]\n",
            "  [4 5 6]\n",
            "  [7 8 9]]]\n",
            "(3, 3, 3)\n"
          ]
        }
      ]
    },
    {
      "cell_type": "code",
      "source": [
        "# eye() : 단위행렬(identity matrix) 생성\n",
        "np.eye(3)"
      ],
      "metadata": {
        "colab": {
          "base_uri": "https://localhost:8080/"
        },
        "id": "UiyO8CTLgsp5",
        "outputId": "37bc5ddd-9217-41bd-9b7d-594b063eebc2"
      },
      "execution_count": null,
      "outputs": [
        {
          "output_type": "execute_result",
          "data": {
            "text/plain": [
              "array([[1., 0., 0.],\n",
              "       [0., 1., 0.],\n",
              "       [0., 0., 1.]])"
            ]
          },
          "metadata": {},
          "execution_count": 34
        }
      ]
    },
    {
      "cell_type": "code",
      "source": [
        "np.empty(10)"
      ],
      "metadata": {
        "colab": {
          "base_uri": "https://localhost:8080/"
        },
        "id": "tG6R1eaJgtw8",
        "outputId": "a69cab21-7a59-4d5f-af38-803f57eadefb"
      },
      "execution_count": null,
      "outputs": [
        {
          "output_type": "execute_result",
          "data": {
            "text/plain": [
              "array([ 10.,  20.,  30.,  40.,  50.,  60.,  70.,  80.,  90., 100.])"
            ]
          },
          "metadata": {},
          "execution_count": 35
        }
      ]
    },
    {
      "cell_type": "code",
      "source": [
        "a1 = [4,5,6,4,5,6]\n",
        "a1 = np.array(a1)\n",
        "\n",
        "print(a1)"
      ],
      "metadata": {
        "colab": {
          "base_uri": "https://localhost:8080/"
        },
        "id": "mILPxZVOhNQp",
        "outputId": "2738f1d2-a895-4072-dbf2-931f8e7d9d2e"
      },
      "execution_count": null,
      "outputs": [
        {
          "output_type": "stream",
          "name": "stdout",
          "text": [
            "[4 5 6 4 5 6]\n"
          ]
        }
      ]
    },
    {
      "cell_type": "code",
      "source": [
        "np.zeros_like(a1)"
      ],
      "metadata": {
        "colab": {
          "base_uri": "https://localhost:8080/"
        },
        "id": "PqVDl2ZnhOPi",
        "outputId": "13124088-3447-4de9-91c3-ab342fffeca0"
      },
      "execution_count": null,
      "outputs": [
        {
          "output_type": "execute_result",
          "data": {
            "text/plain": [
              "array([0, 0, 0, 0, 0, 0])"
            ]
          },
          "metadata": {},
          "execution_count": 41
        }
      ]
    },
    {
      "cell_type": "code",
      "source": [
        "np.zeros_like(a3)"
      ],
      "metadata": {
        "colab": {
          "base_uri": "https://localhost:8080/"
        },
        "id": "JbT5EHh4hqCR",
        "outputId": "2d4ee375-424b-4ca8-c909-98ad6129ca73"
      },
      "execution_count": null,
      "outputs": [
        {
          "output_type": "execute_result",
          "data": {
            "text/plain": [
              "array([[[0, 0, 0],\n",
              "        [0, 0, 0],\n",
              "        [0, 0, 0]],\n",
              "\n",
              "       [[0, 0, 0],\n",
              "        [0, 0, 0],\n",
              "        [0, 0, 0]],\n",
              "\n",
              "       [[0, 0, 0],\n",
              "        [0, 0, 0],\n",
              "        [0, 0, 0]]])"
            ]
          },
          "metadata": {},
          "execution_count": 42
        }
      ]
    },
    {
      "cell_type": "code",
      "source": [
        "np.full_like(a3,10) # a3와 같은 형태이지만 10으로 모두 채운 np array를 만들어줌"
      ],
      "metadata": {
        "colab": {
          "base_uri": "https://localhost:8080/"
        },
        "id": "Ewrp3wiChr2W",
        "outputId": "9d8ca809-c985-4616-fea5-ed374d87dae3"
      },
      "execution_count": null,
      "outputs": [
        {
          "output_type": "execute_result",
          "data": {
            "text/plain": [
              "array([[[10, 10, 10],\n",
              "        [10, 10, 10],\n",
              "        [10, 10, 10]],\n",
              "\n",
              "       [[10, 10, 10],\n",
              "        [10, 10, 10],\n",
              "        [10, 10, 10]],\n",
              "\n",
              "       [[10, 10, 10],\n",
              "        [10, 10, 10],\n",
              "        [10, 10, 10]]])"
            ]
          },
          "metadata": {},
          "execution_count": 44
        }
      ]
    },
    {
      "cell_type": "code",
      "source": [
        "np.linspace(0,1,5)"
      ],
      "metadata": {
        "colab": {
          "base_uri": "https://localhost:8080/"
        },
        "id": "u5SV1m7-h1S0",
        "outputId": "8de5e042-9017-4df6-ae1f-ce061c92ce7e"
      },
      "execution_count": null,
      "outputs": [
        {
          "output_type": "execute_result",
          "data": {
            "text/plain": [
              "array([0.  , 0.25, 0.5 , 0.75, 1.  ])"
            ]
          },
          "metadata": {},
          "execution_count": 45
        }
      ]
    },
    {
      "cell_type": "code",
      "source": [
        "np.random.random((3,3))"
      ],
      "metadata": {
        "colab": {
          "base_uri": "https://localhost:8080/"
        },
        "id": "Ydb3n2R7h5tB",
        "outputId": "49c875f6-7be3-4a1c-cbf3-e268a2ac7207"
      },
      "execution_count": null,
      "outputs": [
        {
          "output_type": "execute_result",
          "data": {
            "text/plain": [
              "array([[0.97702929, 0.16512683, 0.52372952],\n",
              "       [0.46932809, 0.02341048, 0.11399623],\n",
              "       [0.73818595, 0.32776103, 0.20113591]])"
            ]
          },
          "metadata": {},
          "execution_count": 46
        }
      ]
    },
    {
      "cell_type": "code",
      "source": [
        "np.random.randint(0,10,(3,3)) # 0에서 10 사이의 random한 값을 3x3 형태로 생성"
      ],
      "metadata": {
        "colab": {
          "base_uri": "https://localhost:8080/"
        },
        "id": "K2pNYS9FiIe6",
        "outputId": "8f6b2f62-a876-4baf-f8e0-c5932a7a700d"
      },
      "execution_count": null,
      "outputs": [
        {
          "output_type": "execute_result",
          "data": {
            "text/plain": [
              "array([[7, 9, 4],\n",
              "       [0, 6, 1],\n",
              "       [7, 5, 1]])"
            ]
          },
          "metadata": {},
          "execution_count": 48
        }
      ]
    },
    {
      "cell_type": "code",
      "source": [
        "np.random.normal(0,1,(3,3)) # 평균과 표준편차를 고려해 3x3 형태로 데이터 생성"
      ],
      "metadata": {
        "colab": {
          "base_uri": "https://localhost:8080/"
        },
        "id": "sO4-tMrXiNg-",
        "outputId": "9a67d734-6dbe-4258-ca52-3bf4a2df0d7d"
      },
      "execution_count": null,
      "outputs": [
        {
          "output_type": "execute_result",
          "data": {
            "text/plain": [
              "array([[ 1.08926654,  2.04378121,  0.77747628],\n",
              "       [-1.82045311, -0.23162384, -0.10008524],\n",
              "       [ 1.2490039 , -0.08179584, -0.44702224]])"
            ]
          },
          "metadata": {},
          "execution_count": 49
        }
      ]
    },
    {
      "cell_type": "code",
      "source": [
        "# 1. 데이터의 대응값들을 균등하게 분포시켜 생성\n",
        "np.random.rand(3,3) "
      ],
      "metadata": {
        "colab": {
          "base_uri": "https://localhost:8080/"
        },
        "id": "vDJv8w16ifRT",
        "outputId": "765d5795-00a9-4ec7-b9ed-1b639164016e"
      },
      "execution_count": null,
      "outputs": [
        {
          "output_type": "execute_result",
          "data": {
            "text/plain": [
              "array([[0.00586762, 0.51467904, 0.82413065],\n",
              "       [0.77212075, 0.83070868, 0.92836326],\n",
              "       [0.69571603, 0.22352564, 0.51773134]])"
            ]
          },
          "metadata": {},
          "execution_count": 50
        }
      ]
    },
    {
      "cell_type": "code",
      "source": [
        "data = np.random.rand(100)\n",
        "\n",
        "import matplotlib.pyplot as plt\n",
        "\n",
        "plt.plot(data)\n",
        "plt.show()"
      ],
      "metadata": {
        "colab": {
          "base_uri": "https://localhost:8080/",
          "height": 266
        },
        "id": "319VDr1Wikpb",
        "outputId": "dca266ff-837b-4347-d4f3-04ef3d2a07c3"
      },
      "execution_count": null,
      "outputs": [
        {
          "output_type": "display_data",
          "data": {
            "text/plain": [
              "<Figure size 432x288 with 1 Axes>"
            ],
            "image/png": "[encoded data removed]"
          },
          "metadata": {
            "needs_background": "light"
          }
        }
      ]
    },
    {
      "cell_type": "code",
      "source": [
        "# 2. 표준 정규 분포를 고려한 랜덤한 수의 배열 생성\n",
        "np.random.randn(3,3)"
      ],
      "metadata": {
        "colab": {
          "base_uri": "https://localhost:8080/"
        },
        "id": "kg94t4VNjA0A",
        "outputId": "a840d986-6c93-432f-d84c-bf9bb5fdfa0f"
      },
      "execution_count": null,
      "outputs": [
        {
          "output_type": "execute_result",
          "data": {
            "text/plain": [
              "array([[-1.17596446,  0.47576184,  0.07361849],\n",
              "       [-0.91627241,  1.19558249,  0.16438931],\n",
              "       [-0.92575446, -1.1746569 , -0.42278902]])"
            ]
          },
          "metadata": {},
          "execution_count": 56
        }
      ]
    },
    {
      "cell_type": "code",
      "source": [
        "# 3. Bool Type으로 데이터 생성\n",
        "np.ones((3,3),dtype=bool)"
      ],
      "metadata": {
        "colab": {
          "base_uri": "https://localhost:8080/"
        },
        "id": "wygNQ1cwjRjJ",
        "outputId": "c721de53-4e7e-46ac-a05d-01e6e28e77b5"
      },
      "execution_count": null,
      "outputs": [
        {
          "output_type": "execute_result",
          "data": {
            "text/plain": [
              "array([[ True,  True,  True],\n",
              "       [ True,  True,  True],\n",
              "       [ True,  True,  True]])"
            ]
          },
          "metadata": {},
          "execution_count": 57
        }
      ]
    },
    {
      "cell_type": "code",
      "source": [
        "data = np.array('2023-01-01', dtype=np.datetime64)\n",
        "\n",
        "print(data)"
      ],
      "metadata": {
        "colab": {
          "base_uri": "https://localhost:8080/"
        },
        "id": "TpRz9XPmjt0V",
        "outputId": "952e150f-1c69-4a57-bae5-1b683683a021"
      },
      "execution_count": null,
      "outputs": [
        {
          "output_type": "stream",
          "name": "stdout",
          "text": [
            "2023-01-01\n"
          ]
        }
      ]
    },
    {
      "cell_type": "code",
      "source": [
        "# date data를 일괄적으로 생성하고 싶음 \n",
        "data + np.arange(12) "
      ],
      "metadata": {
        "colab": {
          "base_uri": "https://localhost:8080/"
        },
        "id": "FswrLuXaj3aU",
        "outputId": "1f9b8950-e883-41d2-b2c0-f90b6c869068"
      },
      "execution_count": null,
      "outputs": [
        {
          "output_type": "execute_result",
          "data": {
            "text/plain": [
              "array(['2023-01-01', '2023-01-02', '2023-01-03', '2023-01-04',\n",
              "       '2023-01-05', '2023-01-06', '2023-01-07', '2023-01-08',\n",
              "       '2023-01-09', '2023-01-10', '2023-01-11', '2023-01-12'],\n",
              "      dtype='datetime64[D]')"
            ]
          },
          "metadata": {},
          "execution_count": 60
        }
      ]
    },
    {
      "cell_type": "code",
      "source": [
        "# 날짜 data 형식을 고려하여 월이 넘어가는 것을 자동으로 반영하여 데이터를 생성함\n",
        "data + np.arange(50) "
      ],
      "metadata": {
        "colab": {
          "base_uri": "https://localhost:8080/"
        },
        "id": "ELgsjqjnkEkB",
        "outputId": "640e301e-0ecb-44bf-ece9-7465d9122e7d"
      },
      "execution_count": null,
      "outputs": [
        {
          "output_type": "execute_result",
          "data": {
            "text/plain": [
              "array(['2023-01-01', '2023-01-02', '2023-01-03', '2023-01-04',\n",
              "       '2023-01-05', '2023-01-06', '2023-01-07', '2023-01-08',\n",
              "       '2023-01-09', '2023-01-10', '2023-01-11', '2023-01-12',\n",
              "       '2023-01-13', '2023-01-14', '2023-01-15', '2023-01-16',\n",
              "       '2023-01-17', '2023-01-18', '2023-01-19', '2023-01-20',\n",
              "       '2023-01-21', '2023-01-22', '2023-01-23', '2023-01-24',\n",
              "       '2023-01-25', '2023-01-26', '2023-01-27', '2023-01-28',\n",
              "       '2023-01-29', '2023-01-30', '2023-01-31', '2023-02-01',\n",
              "       '2023-02-02', '2023-02-03', '2023-02-04', '2023-02-05',\n",
              "       '2023-02-06', '2023-02-07', '2023-02-08', '2023-02-09',\n",
              "       '2023-02-10', '2023-02-11', '2023-02-12', '2023-02-13',\n",
              "       '2023-02-14', '2023-02-15', '2023-02-16', '2023-02-17',\n",
              "       '2023-02-18', '2023-02-19'], dtype='datetime64[D]')"
            ]
          },
          "metadata": {},
          "execution_count": 61
        }
      ]
    },
    {
      "cell_type": "code",
      "source": [
        "# Bool 통해 데이터 선별적으로 출력하기\n",
        "bi = [False,True,True,False,True,False]\n",
        "print(a1[bi])"
      ],
      "metadata": {
        "colab": {
          "base_uri": "https://localhost:8080/"
        },
        "id": "zmULU50qkaXM",
        "outputId": "88c1f4de-bf63-43fe-9412-82a20ad272da"
      },
      "execution_count": null,
      "outputs": [
        {
          "output_type": "stream",
          "name": "stdout",
          "text": [
            "[5 6 5]\n"
          ]
        }
      ]
    },
    {
      "cell_type": "code",
      "source": [
        "a1"
      ],
      "metadata": {
        "colab": {
          "base_uri": "https://localhost:8080/"
        },
        "id": "_bwXovkkkh5M",
        "outputId": "5df02a8b-c886-43e0-90b5-b651d9650b0d"
      },
      "execution_count": null,
      "outputs": [
        {
          "output_type": "execute_result",
          "data": {
            "text/plain": [
              "array([4, 5, 6, 4, 5, 6])"
            ]
          },
          "metadata": {},
          "execution_count": 63
        }
      ]
    },
    {
      "cell_type": "code",
      "source": [
        "# Data 추가하기\n",
        "b1 = np.insert(a1,0,10) # 0번째 index에 10을 insert\n",
        "b1"
      ],
      "metadata": {
        "colab": {
          "base_uri": "https://localhost:8080/"
        },
        "id": "Y2wxRlUIkvPI",
        "outputId": "ff389ce4-993f-46d1-c27c-a19f1899dab4"
      },
      "execution_count": null,
      "outputs": [
        {
          "output_type": "execute_result",
          "data": {
            "text/plain": [
              "array([10,  4,  5,  6,  4,  5,  6])"
            ]
          },
          "metadata": {},
          "execution_count": 65
        }
      ]
    }
  ]
}